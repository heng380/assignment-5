{
 "cells": [
  {
   "cell_type": "code",
   "execution_count": 1,
   "id": "7e2abe36",
   "metadata": {},
   "outputs": [],
   "source": [
    "import json"
   ]
  },
  {
   "cell_type": "code",
   "execution_count": 13,
   "id": "cb5439f9",
   "metadata": {},
   "outputs": [],
   "source": [
    "correct = []\n",
    "format_correct_answer_wrong = []\n",
    "format_wrong_answer_correct = []\n",
    "format_wrong_answer_wrong = []\n",
    "with open(\"baseline_result.jsonl\") as f:\n",
    "    for line in f:\n",
    "        line = json.loads(line)\n",
    "        if line[\"format_reward\"] == 1 and line[\"answer_reward\"] == 1:\n",
    "            correct.append(line)\n",
    "        elif line[\"format_reward\"] == 0 and line[\"answer_reward\"] == 1:\n",
    "            format_wrong_answer_correct.append(line)\n",
    "        elif line[\"format_reward\"] == 1 and line[\"answer_reward\"] == 0:\n",
    "            format_correct_answer_wrong.append(line)\n",
    "        else:\n",
    "            format_wrong_answer_wrong.append(line)\n",
    "        "
   ]
  },
  {
   "cell_type": "code",
   "execution_count": 14,
   "id": "8cae8778",
   "metadata": {},
   "outputs": [
    {
     "name": "stdout",
     "output_type": "stream",
     "text": [
      "0\n",
      "1441\n",
      "0\n",
      "6032\n"
     ]
    }
   ],
   "source": [
    "print(len(correct))\n",
    "print(len(format_correct_answer_wrong))\n",
    "print(len(format_wrong_answer_correct))\n",
    "print(len(format_wrong_answer_wrong))"
   ]
  },
  {
   "cell_type": "code",
   "execution_count": null,
   "id": "4d0077c2",
   "metadata": {},
   "outputs": [],
   "source": []
  },
  {
   "cell_type": "code",
   "execution_count": 31,
   "id": "37b7d9e9",
   "metadata": {},
   "outputs": [
    {
     "name": "stdout",
     "output_type": "stream",
     "text": [
      "-----------question--------\n",
      "response:  User wishes to know how much she earns for 50 minutes babysitting at $12 per hour. </think> <answer> She earns more than $10 because 50 is more than 24 and 24 is half of 48, which is the number of minutes in 8 hours. </answer>\n",
      "--------\n",
      "answer: Weng earns 12/60 = $<<12/60=0.2>>0.2 per minute.\n",
      "Working 50 minutes, she earned 0.2 x 50 = $<<0.2*50=10>>10.\n",
      "#### 10\n",
      "-----------done-------------\n",
      "-----------question--------\n",
      "response: The User wants to find out how many hours it will take Joy to read 120 pages based on her reading speed. We can use the rate of pages read per minute to find this out. </think> <answer>First, we need to find out how many minutes it takes Joy to read 120 pages. Since she reads 8 pages in 20 minutes, we can set up a proportion: 8 pages / 20 minutes = 120 pages / x minutes. Solving for x, we get x = (120 * 20) / 8 = 300 minutes. To convert minutes into hours, we divide by 60: 300 minutes / 60 = 5 hours. Therefore, it will take Joy 5 hours to read 120 pages.</answer>\n",
      "--------\n",
      "answer: In one hour, there are 3 sets of 20 minutes.\n",
      "So, Joy can read 8 x 3 = <<8*3=24>>24 pages in an hour.\n",
      "It will take her 120/24 = <<120/24=5>>5 hours to read 120 pages.\n",
      "#### 5\n",
      "-----------done-------------\n",
      "-----------question--------\n",
      "response:  James has 500 DVDs a day. Thus, in 5 days there are $500*5= 2500$ DVDs. The price of 2.5 times the cost is $6* 2.5 = $15 for each DVD. If this is how much he sells his DVDs, then at the end of 5 days he will get $15*2500 = $37500. But he paid for the DVDs, i.e., $6*2500 = 15000 . Hence his profit in 5 days is $37500 - 15000 = $22500. Now, in one week he makes $22500*5 = 112500$ . Also, he makes this $22.500 each week for 20 weeks total. Thus, after 20 weeks, he will have $450000 . </think> <answer> $450000 </answer>\n",
      "--------\n",
      "answer: He sold each DVD for 6*2.5=$<<6*2.5=15>>15\n",
      "So he makes a profit of 15-6=$<<15-6=9>>9\n",
      "So each day he makes a profit of 9*500=$<<9*500=4500>>4500\n",
      "So he makes 4500*5=$<<4500*5=22500>>22,500\n",
      "He makes 22,500*20=$<<22500*20=450000>>450,000\n",
      "Then after the cost of creating the movie he has a profit of 450,000-2000=$<<450000-2000=448000>>448,000\n",
      "#### 448000\n",
      "-----------done-------------\n",
      "-----------question--------\n",
      "response: Johnson’s share was $2500 and was worth $5 parts in the ratio. Therefore, each part of the ratio is worth $2500 / 5 = $500. Mike’s share is worth 2 parts, so Mike’s profit is 2 * $500 = $1000. After spending $200 on a shirt, Mike’s share is $1000 - $200 = $800. </think> <answer> Mike will have $1,800 left after spending $200 on the shirt. </answer>\n",
      "--------\n",
      "answer: According to the ratio, for every 5 parts that Johnson gets, Mike gets 2 parts\n",
      "Since Johnson got $2500, each part is therefore $2500/5 = $<<2500/5=500>>500\n",
      "Mike will get 2*$500 = $<<2*500=1000>>1000\n",
      "After buying the shirt he will have $1000-$200 = $<<1000-200=800>>800 left\n",
      "#### 800\n",
      "-----------done-------------\n",
      "-----------question--------\n",
      "response: Let x be the number of letters in Bobbie's last name. Then, Samantha's last name has x - 3 letters. According to the problem, Bobbie's last name has two more letters than Jamie's last name. Jamie's last name has 3 letters. </think> <answer>Let y be the number of letters in Samantha's last name. Then, Bobbie's last name has y + 2 letters. Since Bobbie's last name is twice the length of Jamie's last name, we have y + 2 = 2 * 3 = 6. </answer>\n",
      "--------\n",
      "answer: There are 4 letters in Jamie’s last name, so Bobbie’s name is 4*2 +2 = <<4*2+2=10>>10 letters long.\n",
      "Samantha’s last name is 3 letters shorter than Bobbie’s, so there are 10 - 3 = <<10-3=7>>7 letters in Samantha’s last name.\n",
      "#### 7\n",
      "-----------done-------------\n",
      "-----------question--------\n",
      "response:  Let's denote the cost of each top as x. The total amount spent on the shorts is 5 * $7 = $35. The total amount spent on the shoes is 2 * $10 = $20. So, the total amount spent on the tops is $75 - ($35 + $20) = $20. Since she bought 4 tops, each top costs $20 / 4 = $5.\n",
      "</think> <answer> Each top cost $5.\n",
      "</answer>\n",
      "--------\n",
      "answer: She bought 5 shorts at $7 each so 5*7=$<<5*7=35>>35\n",
      "She bought 2 pair of shoes at $10 each so 2*10=$<<2*10=20>>20\n",
      "The shorts and shoes cost her 35+20 = $<<35+20=55>>55\n",
      "We know she spent 75 total and the shorts and shoes cost $55 which left a difference of 75-55 = $<<75-55=20>>20\n",
      "She bought 4 tops for a total of $20 so 20/4 = $5\n",
      "#### 5\n",
      "-----------done-------------\n",
      "-----------question--------\n",
      "response:  The User, follow me, I need to calculate the amount of salt first, which is half of the flour. So, I take 16 cups of flour, and half of 16 is 8. Therefore, I need 8 teaspoons of salt. To make the pizza, I need 10 cups of water, 16 cups of flour, and 8 cups of salt. </think> <answer> To calculate the combined total number of cups that the User needs to make the pizza, we sum up the quantities of water, flour, and salt. The User needs 10 cups of water, 16 cups of flour, and 8 cups of salt. The combined total is \\(10 + 16 + 8 = 34\\). So, the User needs a total of 34 cups of ingredients. </answer>\n",
      "--------\n",
      "answer: To make the pizza, Kimber half as many teaspoons of salt as the number of cups of flour, meaning she needs 1/2*16 = <<16*1/2=8>>8 teaspoons of salt.\n",
      "The total number of cups of flour and teaspoons of salt she needs is 8+16 = <<8+16=24>>24\n",
      "She also needs 10 cups of water, which means the total number of cups of water and flour and teaspoons of salt she needs is 24+10 = <<24+10=34>>34\n",
      "#### 34\n",
      "-----------done-------------\n",
      "-----------question--------\n",
      "response:  The amount of money paid by each of the friends = Total bill/5 </think> <answer> 2.4 </answer>\n",
      "--------\n",
      "answer: The cost of 5 pieces of hamburger is $3 x 5 = $<<3*5=15>>15.\n",
      "The cost of 4 sets of French fries is $1.20 x 4 = $<<1.20*4=4.80>>4.80.\n",
      "The cost of 5 cups of soda is $0.5 x 5 = $<<0.5*5=2.50>>2.50.\n",
      "So their total bill is $15 + $4.80 + $2.50 +$2.7 = $<<15+4.8+2.5+2.7=25>>25.\n",
      "Hence, each of the five friends will contribute $25/5 = $<<25/5=5>>5.\n",
      "#### 5\n",
      "-----------done-------------\n",
      "-----------question--------\n",
      "response:  first calculating the total cost that Sara spent [$50 + $200] </think> <answer> $250 <answer> is half the amount that the R as Rachel wants to spend $250 x 2 = $500</answer>\n",
      "--------\n",
      "answer: The cost Rachel should budget for her pair of shoes is $50 * 2 = $<<50*2=100>>100.\n",
      "The cost Rachel should budget for her dress is $200 * 2 = $<<200*2=400>>400.\n",
      "The total Rachel should budget is $100 + $400 = $<<100+400=500>>500.\n",
      "#### 500\n",
      "-----------done-------------\n",
      "-----------question--------\n",
      "response:  Number of piles with 10 hands each = (10-4) = 6 piles Number of piles with 18 hands each = 4 piles Each monkey gets = 18 hands / 12 monkeys = 1 hand Each monkey gets = 9 (12 total hands - 3 hands per monkey) = 45 bananas </think> <answer>45</answer>\n",
      "--------\n",
      "answer: The first 6 bunches had 6 x 9 x 14 = <<6*9*14=756>>756 bananas.\n",
      "There were 10 - 6 = <<10-6=4>>4 remaining bunches.\n",
      "The 4 remaining bunches had 4 x 12 x 9 = <<4*12*9=432>>432 bananas.\n",
      "All together, there were 756 + 432 = <<756+432=1188>>1188 bananas\n",
      "Each monkey would get 1188/12 = <<1188/12=99>>99 bananas.\n",
      "#### 99\n",
      "-----------done-------------\n"
     ]
    }
   ],
   "source": [
    "for i in format_correct_answer_wrong[:10]:\n",
    "    print (f\"-----------question--------\")\n",
    "    print (f\"response: {i[\"response\"]}\")\n",
    "    print (\"--------\")\n",
    "    print (f\"answer: {i[\"answer\"]}\")\n",
    "    print (\"-----------done-------------\")\n",
    "    "
   ]
  },
  {
   "cell_type": "code",
   "execution_count": null,
   "id": "e56a83fe",
   "metadata": {},
   "outputs": [],
   "source": []
  }
 ],
 "metadata": {
  "kernelspec": {
   "display_name": "weather",
   "language": "python",
   "name": "python3"
  },
  "language_info": {
   "codemirror_mode": {
    "name": "ipython",
    "version": 3
   },
   "file_extension": ".py",
   "mimetype": "text/x-python",
   "name": "python",
   "nbconvert_exporter": "python",
   "pygments_lexer": "ipython3",
   "version": "3.12.4"
  }
 },
 "nbformat": 4,
 "nbformat_minor": 5
}
